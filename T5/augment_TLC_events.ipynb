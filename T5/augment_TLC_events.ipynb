{
 "cells": [
  {
   "cell_type": "code",
   "execution_count": 1,
   "id": "6cef2364",
   "metadata": {},
   "outputs": [],
   "source": [
    "import pandas as pd\n",
    "from dask.distributed import Client, LocalCluster\n",
    "import dask.dataframe as dd\n",
    "from pathlib import Path\n",
    "import pandas as pd\n",
    "import os\n",
    "import numpy as np\n",
    "from sklearn.neighbors import BallTree\n",
    "import pyarrow.dataset as ds\n",
    "import pyarrow as pa\n",
    "import pyarrow.compute as pc\n",
    "import shapely\n",
    "import pandas as pd\n",
    "from scipy.spatial import cKDTree\n",
    "import numpy as np\n"
   ]
  },
  {
   "cell_type": "code",
   "execution_count": null,
   "id": "a49b79f4",
   "metadata": {},
   "outputs": [],
   "source": [
    "add_data_path = Path(\"/d/hpc/home/jv8043/BD/project/T5/add_data\")"
   ]
  },
  {
   "cell_type": "code",
   "execution_count": 3,
   "id": "4d52007a",
   "metadata": {},
   "outputs": [],
   "source": [
    "events_df = pd.read_parquet(add_data_path / \"nyc_events_full.parquet\")"
   ]
  },
  {
   "cell_type": "code",
   "execution_count": 4,
   "id": "435043d6",
   "metadata": {},
   "outputs": [],
   "source": [
    "# count nans in police precint\n",
    "print(\"Police precinct nans:\", events_df[\"police_precinct\"].isna().sum())"
   ]
  },
  {
   "cell_type": "code",
   "execution_count": 5,
   "id": "8e3cad37",
   "metadata": {},
   "outputs": [],
   "source": [
    "pprecint_loc_df = pd.read_csv(add_data_path / \"police_precincts.csv\")\n",
    "pprecint_loc_df.head()"
   ]
  },
  {
   "cell_type": "code",
   "execution_count": 6,
   "id": "a31db303",
   "metadata": {},
   "outputs": [],
   "source": [
    "tlc_zones_df = pd.read_csv(\"/d/hpc/home/jv8043/BD/project/add_data/taxi_zone_lookup.csv\")\n",
    "tlc_zones_df.dropna(subset=[\"latitude\", \"longitude\"], inplace=True)\n",
    "tlc_zones_df.head()"
   ]
  },
  {
   "cell_type": "code",
   "execution_count": 7,
   "id": "17b9f08b",
   "metadata": {},
   "outputs": [],
   "source": [
    "import pandas as pd\n",
    "from shapely.wkt import loads as wkt_loads\n",
    "from shapely.geometry import Point\n",
    "import numpy as np\n",
    "from scipy.spatial import distance\n",
    "\n",
    "# --- Step 1: Prepare precinct geometries\n",
    "pprecint_loc_df['geometry'] = pprecint_loc_df['the_geom'].apply(wkt_loads)\n",
    "\n",
    "# --- Step 2: Get centroids of precincts\n",
    "pprecint_loc_df['centroid'] = pprecint_loc_df['geometry'].apply(lambda g: g.centroid)\n",
    "pprecint_loc_df['centroid_lon'] = pprecint_loc_df['centroid'].apply(lambda p: p.x)\n",
    "pprecint_loc_df['centroid_lat'] = pprecint_loc_df['centroid'].apply(lambda p: p.y)"
   ]
  },
  {
   "cell_type": "code",
   "execution_count": 9,
   "id": "79ebc315",
   "metadata": {},
   "outputs": [],
   "source": [
    "tlc_zones_df.head()"
   ]
  },
  {
   "cell_type": "code",
   "execution_count": 21,
   "id": "e92be7a7",
   "metadata": {},
   "outputs": [],
   "source": [
    "def find_closest_zone(lat, lon, zones_df):\n",
    "    distances = zones_df.apply(lambda row: distance.euclidean((lat, lon), (row['latitude'], row['longitude'])), axis=1)\n",
    "    closest_idx = distances.idxmin()\n",
    "    return zones_df.loc[closest_idx, ['latitude', 'longitude']]"
   ]
  },
  {
   "cell_type": "code",
   "execution_count": 22,
   "id": "68c55e9d",
   "metadata": {},
   "outputs": [],
   "source": [
    "closest_coords_df = pd.DataFrame(\n",
    "    pprecint_loc_df.apply(\n",
    "        lambda row: find_closest_zone(row['centroid_lat'], row['centroid_lon'], tlc_zones_df), axis=1\n",
    "    ),\n",
    "    columns=['latitude', 'longitude']\n",
    ")\n",
    "\n",
    "# Assign to precincts\n",
    "pprecint_loc_df[['latitude', 'longitude']] = closest_coords_df"
   ]
  },
  {
   "cell_type": "code",
   "execution_count": 25,
   "id": "530b2a0e",
   "metadata": {},
   "outputs": [],
   "source": [
    "pprecint_loc_df.head()"
   ]
  },
  {
   "cell_type": "code",
   "execution_count": 26,
   "id": "5fe1ef02",
   "metadata": {},
   "outputs": [],
   "source": [
    "precinct_coords = pprecint_loc_df[['Precinct', 'latitude', 'longitude']].copy()\n",
    "precinct_coords['Precinct'] = precinct_coords['Precinct'].astype(int)\n",
    "\n",
    "events_df['police_precinct'] = events_df['police_precinct'].astype(str).str.extract(r'(\\d+)').astype(float)\n",
    "\n",
    "events_df = events_df.merge(precinct_coords, left_on='police_precinct', right_on='Precinct', how='left')\n",
    "events_df.drop(columns=['Precinct'], inplace=True)"
   ]
  },
  {
   "cell_type": "code",
   "execution_count": 27,
   "id": "2a4436fb",
   "metadata": {},
   "outputs": [],
   "source": [
    "events_df.head()"
   ]
  },
  {
   "cell_type": "code",
   "execution_count": 28,
   "id": "e4a253af",
   "metadata": {},
   "outputs": [],
   "source": [
    "events_df = events_df[['event_type', 'start_date_time', 'end_date_time', 'latitude', 'longitude']]\n",
    "events_df.to_parquet(add_data_path / \"nyc_events_augmented.parquet\", index=False)"
   ]
  }
 ],
 "metadata": {
  "kernelspec": {
   "display_name": "Python 3 (ipykernel)",
   "language": "python",
   "name": "python3"
  }
 },
 "nbformat": 4,
 "nbformat_minor": 5
}
