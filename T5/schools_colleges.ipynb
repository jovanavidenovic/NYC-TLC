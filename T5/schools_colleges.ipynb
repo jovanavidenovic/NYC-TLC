{
 "cells": [
  {
   "cell_type": "markdown",
   "id": "95b1c0fe",
   "metadata": {},
   "source": [
    "### Big data course project\n",
    "<strong>T5: External data: schools & colleges</strong>\n",
    "\n",
    "Jovana Videnovic & Haris Kupinic"
   ]
  },
  {
   "cell_type": "code",
   "execution_count": null,
   "id": "47c5a554",
   "metadata": {},
   "outputs": [],
   "source": [
    "!hostnamectl"
   ]
  },
  {
   "cell_type": "code",
   "execution_count": null,
   "id": "9f6f0033",
   "metadata": {},
   "outputs": [],
   "source": [
    "from dask.distributed import Client, LocalCluster\n",
    "import dask.dataframe as dd\n",
    "from pathlib import Path\n",
    "import pandas as pd\n",
    "import os\n",
    "import requests"
   ]
  },
  {
   "cell_type": "code",
   "execution_count": null,
   "id": "aaa1821d",
   "metadata": {},
   "outputs": [],
   "source": [
    "part_data_path = Path(\"/d/hpc/projects/FRI/bigdata/students/jv8043/partitioned_data\")\n",
    "service_type = \"green\""
   ]
  },
  {
   "cell_type": "code",
   "execution_count": null,
   "id": "2836da9b",
   "metadata": {},
   "outputs": [],
   "source": [
    "add_data_path = Path(\"/d/hpc/home/jv8043/BD/project/T5/add_data\") "
   ]
  },
  {
   "cell_type": "code",
   "execution_count": null,
   "id": "a68f56ed",
   "metadata": {},
   "outputs": [],
   "source": [
    "tables_path = Path(\"/d/hpc/home/jv8043/BD/project/T5/T5_tables\") / service_type\n",
    "os.makedirs(tables_path, exist_ok=True)"
   ]
  },
  {
   "cell_type": "code",
   "execution_count": null,
   "id": "8a0fd717",
   "metadata": {},
   "outputs": [],
   "source": [
    "cluster = LocalCluster(n_workers=4, threads_per_worker=1, memory_limit='16GB')\n",
    "client = Client(cluster)"
   ]
  },
  {
   "cell_type": "code",
   "execution_count": null,
   "id": "1786f7fd",
   "metadata": {},
   "outputs": [],
   "source": [
    "client"
   ]
  },
  {
   "cell_type": "code",
   "execution_count": null,
   "id": "07a0189b",
   "metadata": {},
   "outputs": [],
   "source": [
    "start_dates = {\n",
    "    \"yellow\": pd.Timestamp(\"2012-01-01\"),\n",
    "    \"green\": pd.Timestamp(\"2014-01-01\"),\n",
    "    \"fhv\": pd.Timestamp(\"2015-01-01\"),\n",
    "    \"fhvh\": pd.Timestamp(\"2019-02-01\"),\n",
    "}\n",
    "end_date = pd.Timestamp(\"2025-02-01\")"
   ]
  },
  {
   "cell_type": "code",
   "execution_count": null,
   "id": "bf4069a2",
   "metadata": {},
   "outputs": [],
   "source": [
    "df = dd.read_parquet(part_data_path / service_type, engine=\"pyarrow\", assume_missing=True)"
   ]
  },
  {
   "cell_type": "code",
   "execution_count": null,
   "id": "f00aa3d3",
   "metadata": {},
   "outputs": [],
   "source": [
    "def _fetch_response(url, loc_key, name_key):\n",
    "    \"\"\"\n",
    "    Fetches data from the given URL and returns it as a DataFrame.\n",
    "    \"\"\"\n",
    "    df = pd.DataFrame(columns=[\"lat\", \"lon\", \"name\"])\n",
    "\n",
    "    try:\n",
    "        response = requests.get(url)\n",
    "        response.raise_for_status()\n",
    "        data = response.json()\n",
    "    except requests.exceptions.RequestException as e:\n",
    "        print(f\"An error occurred: {e}\")\n",
    "\n",
    "    for item in data:\n",
    "        try:\n",
    "            lon, lat = item[loc_key][\"coordinates\"]\n",
    "            name = item[name_key]\n",
    "            df.loc[len(df)] = {\"lat\": lat, \"lon\": lon, \"name\": name}\n",
    "        except KeyError as e:\n",
    "            print(f\"Key error in schools: {e}\")\n",
    "\n",
    "    return df\n",
    "\n",
    "\n",
    "def fetch_data(school_type):\n",
    "    if school_type == \"school\":\n",
    "        url = \"https://data.cityofnewyork.us/resource/qa5p-6qzr.json\"\n",
    "        df = _fetch_response(url, \"location_1\", \"school_name\")\n",
    "\n",
    "    elif school_type == \"college\":\n",
    "        url = \"https://data.cityofnewyork.us/resource/8pnn-kkif.json\"\n",
    "        df = _fetch_response(url, \"the_geom\", \"name\")\n",
    "\n",
    "    return df"
   ]
  },
  {
   "cell_type": "code",
   "execution_count": null,
   "id": "004c0242",
   "metadata": {},
   "outputs": [],
   "source": [
    "df = fetch_data(\"school\")\n",
    "df.to_csv(add_data_path / \"schools.csv\", index=False)"
   ]
  },
  {
   "cell_type": "code",
   "execution_count": null,
   "id": "261290b7",
   "metadata": {},
   "outputs": [],
   "source": [
    "df = fetch_data(\"college\")\n",
    "df.to_csv(add_data_path / \"colleges.csv\", index=False)"
   ]
  }
 ],
 "metadata": {
  "kernelspec": {
   "display_name": "Python 3 (ipykernel)",
   "language": "python",
   "name": "python3"
  },
  "language_info": {
   "codemirror_mode": {
    "name": "ipython",
    "version": 3
   },
   "file_extension": ".py",
   "mimetype": "text/x-python",
   "name": "python",
   "nbconvert_exporter": "python",
   "pygments_lexer": "ipython3",
   "version": "3.11.11"
  }
 },
 "nbformat": 4,
 "nbformat_minor": 5
}
