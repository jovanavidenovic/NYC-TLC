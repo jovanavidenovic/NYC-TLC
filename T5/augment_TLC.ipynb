{
 "cells": [
  {
   "cell_type": "code",
   "execution_count": null,
   "id": "6cef2364",
   "metadata": {},
   "outputs": [],
   "source": [
    "import pandas as pd\n",
    "from dask.distributed import Client, LocalCluster\n",
    "import dask.dataframe as dd\n",
    "from pathlib import Path\n",
    "import pandas as pd\n",
    "import os\n",
    "import numpy as np\n",
    "from sklearn.neighbors import BallTree\n",
    "import pyarrow.dataset as ds\n",
    "import pyarrow as pa\n",
    "import pyarrow.compute as pc"
   ]
  },
  {
   "cell_type": "code",
   "execution_count": null,
   "id": "a49b79f4",
   "metadata": {},
   "outputs": [],
   "source": [
    "add_data_path = Path(\"/d/hpc/home/jv8043/BD/project/T5/add_data\")"
   ]
  },
  {
   "cell_type": "code",
   "execution_count": null,
   "id": "4d52007a",
   "metadata": {},
   "outputs": [],
   "source": [
    "schools_df = pd.read_csv(add_data_path / \"schools.csv\",)\n",
    "colleges_df = pd.read_csv(add_data_path / \"colleges.csv\")\n",
    "major_ba_df = pd.read_csv(add_data_path / \"major_ba.csv\")\n",
    "hotels_df = pd.read_csv(add_data_path / \"hotels.csv\")"
   ]
  },
  {
   "cell_type": "code",
   "execution_count": null,
   "id": "8b1be3a1",
   "metadata": {},
   "outputs": [],
   "source": [
    "# Earth radius in miles\n",
    "EARTH_RADIUS_MILES = 3959\n",
    "\n",
    "# Build BallTree using school & college coordinates (in radians)\n",
    "schools_coords = np.radians(schools_df[['lat', 'lon']].values)\n",
    "school_tree = BallTree(schools_coords, metric='haversine')\n",
    "\n",
    "college_coords = np.radians(colleges_df[['lat', 'lon']].values)\n",
    "college_tree = BallTree(college_coords, metric='haversine')\n",
    "\n",
    "major_ba_coords = np.radians(major_ba_df[['lat', 'lon']].values)\n",
    "major_ba_tree = BallTree(major_ba_coords, metric='haversine')\n",
    "\n",
    "hotels_coords = np.radians(hotels_df[['lat', 'lon']].values)\n",
    "hotels_tree = BallTree(hotels_coords, metric='haversine')\n",
    "\n",
    "def find_nearest(df_, tree_, lat, lon, max_distance_miles=0.2):\n",
    "    # Function to find nearest school within 0.2 miles - 300 meters\n",
    "    coord = np.radians([[lat, lon]])\n",
    "    dist, ind = tree_.query(coord, k=1)\n",
    "    distance_miles = dist[0][0] * EARTH_RADIUS_MILES  # convert from radians to miles\n",
    "    if distance_miles <= max_distance_miles:\n",
    "        return df_.iloc[ind[0][0]]['name']\n",
    "    else:\n",
    "        # return nan\n",
    "        return np.nan"
   ]
  },
  {
   "cell_type": "code",
   "execution_count": null,
   "id": "e63fddf7",
   "metadata": {},
   "outputs": [],
   "source": [
    "tlc_zones = pd.read_csv(\"/d/hpc/home/jv8043/BD/project/add_data/taxi_zone_lookup.csv\")"
   ]
  },
  {
   "cell_type": "code",
   "execution_count": null,
   "id": "ff3daed3",
   "metadata": {},
   "outputs": [],
   "source": [
    "display(tlc_zones.head())"
   ]
  },
  {
   "cell_type": "code",
   "execution_count": null,
   "id": "32c144ac",
   "metadata": {},
   "outputs": [],
   "source": [
    "# drop nans in latitude and longitude\n",
    "tlc_zones = tlc_zones.dropna(subset=[\"latitude\", \"longitude\"])"
   ]
  },
  {
   "cell_type": "code",
   "execution_count": null,
   "id": "7b992b5c",
   "metadata": {},
   "outputs": [],
   "source": [
    "coords = tlc_zones[[\"latitude\", \"longitude\"]]\n",
    "coords = coords.rename(columns={\"latitude\": \"lat\", \"longitude\": \"lon\"})\n",
    "\n",
    "coords[\"closest_school\"] = coords.apply(\n",
    "    lambda row: find_nearest(schools_df, school_tree, row[\"lat\"], row[\"lon\"]), axis=1\n",
    ")\n",
    "coords[\"closest_college\"] = coords.apply(\n",
    "    lambda row: find_nearest(colleges_df, college_tree, row[\"lat\"], row[\"lon\"]), axis=1\n",
    ")\n",
    "# select between closest school and college\n",
    "coords[\"closest_school_college\"] = coords.apply(\n",
    "    lambda row: row[\"closest_school\"] if pd.notna(row[\"closest_school\"]) else row[\"closest_college\"], axis=1\n",
    ")\n",
    "\n",
    "del coords[\"closest_school\"]\n",
    "del coords[\"closest_college\"]\n",
    "\n",
    "coords[\"closest_ba\"] = coords.apply(\n",
    "    lambda row: find_nearest(major_ba_df, major_ba_tree, row[\"lat\"], row[\"lon\"]), axis=1\n",
    ")\n",
    "coords[\"closest_hotel\"] = coords.apply(\n",
    "    lambda row: find_nearest(hotels_df, hotels_tree, row[\"lat\"], row[\"lon\"]), axis=1\n",
    ")"
   ]
  },
  {
   "cell_type": "code",
   "execution_count": null,
   "id": "4cb24167",
   "metadata": {},
   "outputs": [],
   "source": [
    "coords.to_csv(add_data_path / \"tlc_zones_with_schools_colleges_ba_hotels_strict.csv\", index=False)"
   ]
  },
  {
   "cell_type": "code",
   "execution_count": null,
   "id": "2e447331",
   "metadata": {},
   "outputs": [],
   "source": [
    "# inspect N/A percentage per column\n",
    "na_percentage = coords.isna().mean() * 100\n",
    "print(\"N/A percentage per column:\")\n",
    "print(na_percentage)"
   ]
  }
 ],
 "metadata": {
  "kernelspec": {
   "display_name": "Python 3 (ipykernel)",
   "language": "python",
   "name": "python3"
  },
  "language_info": {
   "codemirror_mode": {
    "name": "ipython",
    "version": 3
   },
   "file_extension": ".py",
   "mimetype": "text/x-python",
   "name": "python",
   "nbconvert_exporter": "python",
   "pygments_lexer": "ipython3",
   "version": "3.11.11"
  }
 },
 "nbformat": 4,
 "nbformat_minor": 5
}
