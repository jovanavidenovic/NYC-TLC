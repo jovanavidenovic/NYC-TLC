{
 "cells": [
  {
   "cell_type": "markdown",
   "id": "9b8311e6",
   "metadata": {},
   "source": [
    "### Big data course project\n",
    "<strong>T3: Dataset size in different file types</strong>\n",
    "\n",
    "Jovana Videnovic & Haris Kupinic"
   ]
  },
  {
   "cell_type": "code",
   "execution_count": null,
   "id": "f24905b2",
   "metadata": {},
   "outputs": [],
   "source": [
    "!hostnamectl"
   ]
  },
  {
   "cell_type": "code",
   "execution_count": null,
   "id": "9aa368c7",
   "metadata": {},
   "outputs": [],
   "source": [
    "import pandas as pd\n",
    "import time\n",
    "import os\n",
    "import duckdb\n",
    "from pathlib import Path"
   ]
  },
  {
   "cell_type": "code",
   "execution_count": null,
   "id": "8d21ead8",
   "metadata": {},
   "outputs": [],
   "source": [
    "input_path = Path(\"/d/hpc/projects/FRI/bigdata/students/jv8043/partitioned_data/green/2024/part-0.parquet\")\n",
    "output_path = Path(\"/d/hpc/projects/FRI/bigdata/students/jv8043/T3\")\n",
    "table_name =  \"green_2024\""
   ]
  },
  {
   "cell_type": "code",
   "execution_count": null,
   "id": "afc043eb",
   "metadata": {},
   "outputs": [],
   "source": [
    "df = pd.read_parquet(input_path)"
   ]
  },
  {
   "cell_type": "code",
   "execution_count": null,
   "id": "c2ade115",
   "metadata": {},
   "outputs": [],
   "source": [
    "df[\"store_and_fwd_flag\"] = df[\"store_and_fwd_flag\"].astype(str)"
   ]
  },
  {
   "cell_type": "code",
   "execution_count": null,
   "id": "8a1f031b",
   "metadata": {},
   "outputs": [],
   "source": [
    "display(df.head())\n",
    "print(\"DF types\", df.dtypes)"
   ]
  },
  {
   "cell_type": "code",
   "execution_count": null,
   "id": "e2b121b7",
   "metadata": {},
   "outputs": [],
   "source": [
    "# Create output directory if it doesn't exist\n",
    "output_path.mkdir(parents=True, exist_ok=True)\n",
    "# Save DataFrame to different formats\n",
    "df.to_csv(output_path / f\"{table_name}.csv\", index=False)\n",
    "df.to_csv(output_path / f\"{table_name}.csv.gz\", index=False, compression='gzip')\n",
    "df.to_hdf(output_path / f\"{table_name}.h5\", key='data', mode='w')"
   ]
  },
  {
   "cell_type": "code",
   "execution_count": null,
   "id": "34eb0a93",
   "metadata": {},
   "outputs": [],
   "source": [
    "# Connect/create DuckDB file\n",
    "con = duckdb.connect(output_path / f\"{table_name}.duckdb\")\n",
    "con.execute(f\"CREATE TABLE IF NOT EXISTS {table_name} AS SELECT * FROM df\")\n",
    "# Close connection\n",
    "con.close()"
   ]
  },
  {
   "cell_type": "code",
   "execution_count": null,
   "id": "0d5e557f",
   "metadata": {},
   "outputs": [],
   "source": [
    "def read_time_and_size(path, read_type, table_name=None, compression=None):\n",
    "    if read_type == \"duckdb\":\n",
    "        con = duckdb.connect(path)\n",
    "\n",
    "    start = time.time()\n",
    "    if read_type == \"csv\":\n",
    "        df_loaded = pd.read_csv(path, compression=compression)\n",
    "    elif read_type == \"hdf5\":\n",
    "        df_loaded = pd.read_hdf(path, key=\"data\")\n",
    "    elif read_type == \"duckdb\":\n",
    "        df_loaded = con.execute(f\"SELECT * FROM {table_name}\").fetchdf()\n",
    "    duration = time.time() - start\n",
    "    size_mb = os.path.getsize(path) / (1024 * 1024)\n",
    "    if read_type == \"duckdb\":\n",
    "        con.close()\n",
    "    return duration, size_mb, df_loaded.shape"
   ]
  },
  {
   "cell_type": "code",
   "execution_count": null,
   "id": "18f9e4cd",
   "metadata": {},
   "outputs": [],
   "source": [
    "print(\"Reading and size comparison:\")\n",
    "\n",
    "csv_stats = read_time_and_size(output_path / f\"{table_name}.csv\", read_type=\"csv\")\n",
    "print(f\"CSV:      Time={csv_stats[0]:.3f}s, Size={csv_stats[1]:.2f} MB, Shape={csv_stats[2]}\")\n",
    "\n",
    "csv_gz_stats = read_time_and_size(output_path / f\"{table_name}.csv.gz\", read_type=\"csv\", compression='gzip')\n",
    "print(f\"CSV GZ:   Time={csv_gz_stats[0]:.3f}s, Size={csv_gz_stats[1]:.2f} MB, Shape={csv_gz_stats[2]}\")\n",
    "\n",
    "hdf5_stats = read_time_and_size(output_path / f\"{table_name}.h5\", read_type=\"hdf5\", table_name=table_name)\n",
    "print(f\"HDF5:     Time={hdf5_stats[0]:.3f}s, Size={hdf5_stats[1]:.2f} MB, Shape={hdf5_stats[2]}\")\n",
    "\n",
    "duckdb_stats = read_time_and_size(output_path / f\"{table_name}.duckdb\", read_type=\"duckdb\", table_name=table_name)\n",
    "print(f\"DuckDB:   Time={duckdb_stats[0]:.3f}s, Size={duckdb_stats[1]:.2f} MB, Shape={duckdb_stats[2]}\")"
   ]
  },
  {
   "cell_type": "markdown",
   "id": "9e4bbf7e",
   "metadata": {},
   "source": [
    "<strong>Data source reading time and size comparison</strong>\n",
    "\n",
    "| Format  | Read Time (s) | File Size |\n",
    "|---------|---------------|-----------|\n",
    "| CSV     | 0.936         | 89.83 MB  | \n",
    "| CSV GZ  | 1.175         | 15.31 MB  | \n",
    "| HDF5    | 0.176         | 123.16 MB | \n",
    "| DuckDB  | 0.207         | 39.51 MB  | \n"
   ]
  }
 ],
 "metadata": {
  "kernelspec": {
   "display_name": "Python 3 (ipykernel)",
   "language": "python",
   "name": "python3"
  },
  "language_info": {
   "codemirror_mode": {
    "name": "ipython",
    "version": 3
   },
   "file_extension": ".py",
   "mimetype": "text/x-python",
   "name": "python",
   "nbconvert_exporter": "python",
   "pygments_lexer": "ipython3",
   "version": "3.11.11"
  }
 },
 "nbformat": 4,
 "nbformat_minor": 5
}
