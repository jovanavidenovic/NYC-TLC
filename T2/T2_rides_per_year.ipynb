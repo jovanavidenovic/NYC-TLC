{
 "cells": [
  {
   "cell_type": "markdown",
   "id": "4d14a4f6",
   "metadata": {},
   "source": [
    "### Big data course project\n",
    "<strong>T2: Number of rides per year</strong>\n",
    "\n",
    "Jovana Videnovic & Haris Kupinic"
   ]
  },
  {
   "cell_type": "code",
   "execution_count": null,
   "id": "98fc2b04",
   "metadata": {},
   "outputs": [],
   "source": [
    "import pandas as pd\n",
    "import matplotlib.pyplot as plt\n",
    "import os\n",
    "import dask.dataframe as dd\n",
    "import duckdb\n",
    "from pathlib import Path"
   ]
  },
  {
   "cell_type": "code",
   "execution_count": null,
   "id": "31cc2a85",
   "metadata": {},
   "outputs": [],
   "source": [
    "plt.rcParams['xtick.bottom'] = True\n",
    "plt.rcParams['ytick.left'] = True\n",
    "\n",
    "plt.rcParams['font.family'] = 'serif'\n",
    "plt.rcParams['axes.labelsize'] = 12\n",
    "plt.rcParams['xtick.labelsize'] = 10\n",
    "plt.rcParams['ytick.labelsize'] = 10\n",
    "\n",
    "plt.rcParams['axes.facecolor']='w'"
   ]
  },
  {
   "cell_type": "code",
   "execution_count": null,
   "id": "e9dfdb79",
   "metadata": {},
   "outputs": [],
   "source": [
    "service_type = \"fhvhv\""
   ]
  },
  {
   "cell_type": "code",
   "execution_count": null,
   "id": "3eb24619",
   "metadata": {},
   "outputs": [],
   "source": [
    "part_df_path = Path(\"/d/hpc/projects/FRI/bigdata/students/jv8043/partitioned_data\")\n",
    "vis_path = Path(\"/d/hpc/home/jv8043/BD/project/T2/T2_vis\") / service_type\n",
    "tables_path = Path(\"/d/hpc/home/jv8043/BD/project/T2/T2_tables\") / service_type"
   ]
  },
  {
   "cell_type": "code",
   "execution_count": null,
   "id": "1e8079af",
   "metadata": {},
   "outputs": [],
   "source": [
    "df = dd.read_parquet(part_df_path / service_type, engine=\"pyarrow\", assume_missing=True)"
   ]
  },
  {
   "cell_type": "code",
   "execution_count": null,
   "id": "e299d0fa",
   "metadata": {},
   "outputs": [],
   "source": [
    "df['pickup_datetime'] = dd.to_datetime(df['pickup_datetime'], errors='coerce')\n",
    "df = df.dropna(subset=['pickup_datetime'])\n",
    "df['year'] = df['pickup_datetime'].dt.year"
   ]
  },
  {
   "cell_type": "code",
   "execution_count": null,
   "id": "2c9f11e3",
   "metadata": {},
   "outputs": [],
   "source": [
    "rides_per_year = df.groupby('year').size().compute()"
   ]
  },
  {
   "cell_type": "code",
   "execution_count": null,
   "id": "8c6db2a5",
   "metadata": {},
   "outputs": [],
   "source": [
    "# Compute overall median\n",
    "overall_median = rides_per_year.median()"
   ]
  },
  {
   "cell_type": "code",
   "execution_count": null,
   "id": "163ddcbd",
   "metadata": {},
   "outputs": [],
   "source": [
    "# order by year\n",
    "rides_per_year = rides_per_year.sort_index()"
   ]
  },
  {
   "cell_type": "code",
   "execution_count": null,
   "id": "8a36ba36",
   "metadata": {},
   "outputs": [],
   "source": [
    "# save rides_per_year to csv\n",
    "rides_per_year.to_csv(tables_path / \"rides_per_year.csv\", index=True, header=[\"rides\"])"
   ]
  },
  {
   "cell_type": "code",
   "execution_count": null,
   "id": "7600d503",
   "metadata": {},
   "outputs": [],
   "source": [
    "fig, ax = plt.subplots(figsize=(6, 3))\n",
    "rides_per_year.plot(kind='bar', color='salmon', ax=ax)\n",
    "\n",
    "ax.axhline(overall_median, color='gray', linestyle='--', label='Overall median')\n",
    "\n",
    "# Add labels and style\n",
    "ax.set_xlabel(\"Year\")\n",
    "ax.set_ylabel(\"Number of rides\")\n",
    "# x label rotation should be 45 degrees\n",
    "ax.set_xticklabels(rides_per_year.index, rotation=45, ha='right')\n",
    "# ax.set_title(\"Number of Rides per Year\")\n",
    "ax.legend(loc='upper right')\n",
    "ax.spines['left'].set_color('0.5')\n",
    "ax.spines['bottom'].set_color('0.5')\n",
    "\n",
    "# remove top and right spines\n",
    "ax.spines['top'].set_visible(False)\n",
    "ax.spines['right'].set_visible(False)\n",
    "\n",
    "# set dotted lines for grid at y axis\n",
    "ax.yaxis.grid(True, linestyle='--', color='0.8')\n",
    "\n",
    "# Annotate bars with value\n",
    "# for i, val in enumerate(rides_per_year):\n",
    "#     ax.text(i, val + val * 0.01, f\"{val:,}\", ha='center', va='bottom', fontsize=8)\n",
    "ax.set_title(service_type.capitalize())\n",
    "fig.tight_layout()\n",
    "os.makedirs(vis_path, exist_ok=True)\n",
    "fig.savefig(vis_path / \"rides_per_year.pdf\", dpi=300, bbox_inches='tight')\n",
    "\n",
    "plt.show()"
   ]
  }
 ],
 "metadata": {
  "kernelspec": {
   "display_name": "Python 3 (ipykernel)",
   "language": "python",
   "name": "python3"
  },
  "language_info": {
   "codemirror_mode": {
    "name": "ipython",
    "version": 3
   },
   "file_extension": ".py",
   "mimetype": "text/x-python",
   "name": "python",
   "nbconvert_exporter": "python",
   "pygments_lexer": "ipython3",
   "version": "3.11.11"
  }
 },
 "nbformat": 4,
 "nbformat_minor": 5
}
