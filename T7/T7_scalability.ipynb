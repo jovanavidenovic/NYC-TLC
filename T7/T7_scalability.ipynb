{
 "cells": [
  {
   "cell_type": "markdown",
   "id": "95b1c0fe",
   "metadata": {},
   "source": [
    "### Big data course project\n",
    "<strong>T5: External data</strong>\n",
    "\n",
    "Jovana Videnovic & Haris Kupinic"
   ]
  },
  {
   "cell_type": "code",
   "execution_count": 115,
   "id": "47c5a554",
   "metadata": {},
   "outputs": [
    {
     "name": "stdout",
     "output_type": "stream",
     "text": [
      " Static hostname: wn110.arnes.si\n",
      "       Icon name: computer-server\n",
      "         Chassis: server 🖳\n",
      "      Machine ID: 228908d85e1f46e68968a5a0c9a3c7d5\n",
      "         Boot ID: 8f247b33f9404ea59b84f5257f0997d2\n",
      "Operating System: \u001b]8;;https://almalinux.org/\u0007AlmaLinux 9.6 (Sage Margay)\u001b]8;;\u0007         \n",
      "     CPE OS Name: cpe:/o:almalinux:almalinux:9::baseos\n",
      "          Kernel: Linux 5.14.0-570.24.1.el9_6.x86_64\n",
      "    Architecture: x86-64\n",
      "Firmware Version: CFE118M\n"
     ]
    }
   ],
   "source": [
    "!hostnamectl"
   ]
  },
  {
   "cell_type": "code",
   "execution_count": 116,
   "id": "9f6f0033",
   "metadata": {},
   "outputs": [],
   "source": [
    "from dask.distributed import Client, LocalCluster\n",
    "import dask.dataframe as dd\n",
    "from pathlib import Path\n",
    "import pandas as pd\n",
    "import os\n",
    "import numpy as np\n",
    "from sklearn.neighbors import BallTree\n",
    "import pyarrow.dataset as ds\n",
    "import pyarrow as pa\n",
    "import pyarrow.compute as pc\n",
    "from datetime import timedelta\n",
    "from dask_ml.linear_model import LinearRegression\n",
    "from dask_ml.ensemble import BlockwiseVotingRegressor\n",
    "import dask.array as da\n",
    "from sklearn.metrics import mean_absolute_error, mean_squared_error\n",
    "import numpy as np"
   ]
  },
  {
   "cell_type": "code",
   "execution_count": 117,
   "id": "5845696c",
   "metadata": {},
   "outputs": [
    {
     "name": "stderr",
     "output_type": "stream",
     "text": [
      "/d/hpc/home/jv8043/.local/lib/python3.11/site-packages/distributed/node.py:187: UserWarning: Port 8787 is already in use.\n",
      "Perhaps you already have a cluster running?\n",
      "Hosting the HTTP server on port 40619 instead\n",
      "  warnings.warn(\n"
     ]
    },
    {
     "name": "stderr",
     "output_type": "stream",
     "text": [
      "2025-07-16 23:23:59,128 - distributed.shuffle._scheduler_plugin - WARNING - Shuffle 9db90536166c5d990cb7faa7a7a870f4 initialized by task ('shuffle-transfer-9db90536166c5d990cb7faa7a7a870f4', 4) executed on worker tcp://127.0.0.1:46265\n",
      "2025-07-16 23:24:17,987 - distributed.shuffle._scheduler_plugin - WARNING - Shuffle 9db90536166c5d990cb7faa7a7a870f4 deactivated due to stimulus 'task-finished-1752701057.9842865'\n",
      "2025-07-16 23:24:23,511 - distributed.shuffle._scheduler_plugin - WARNING - Shuffle 9db90536166c5d990cb7faa7a7a870f4 initialized by task ('shuffle-transfer-9db90536166c5d990cb7faa7a7a870f4', 4) executed on worker tcp://127.0.0.1:46265\n",
      "2025-07-16 23:24:40,856 - distributed.shuffle._scheduler_plugin - WARNING - Shuffle 9db90536166c5d990cb7faa7a7a870f4 deactivated due to stimulus 'task-finished-1752701080.8540425'\n"
     ]
    }
   ],
   "source": [
    "cluster = LocalCluster(n_workers=2, threads_per_worker=2, memory_limit='32GB')\n",
    "client = Client(cluster)"
   ]
  },
  {
   "cell_type": "code",
   "execution_count": 118,
   "id": "47abd130",
   "metadata": {},
   "outputs": [],
   "source": [
    "data_path = \"/d/hpc/projects/FRI/bigdata/students/jv8043/augmented_data_new/green/weather_scbah\""
   ]
  },
  {
   "cell_type": "code",
   "execution_count": 119,
   "id": "bf4069a2",
   "metadata": {},
   "outputs": [],
   "source": [
    "ddf = dd.read_parquet(data_path, engine=\"pyarrow\", assume_missing=True)"
   ]
  },
  {
   "cell_type": "code",
   "execution_count": 120,
   "id": "974e18a9",
   "metadata": {},
   "outputs": [
    {
     "data": {
      "text/plain": [
       "Index(['ratecodeid', 'pulocationid', 'dolocationid', 'passenger_count',\n",
       "       'trip_distance', 'fare_amount', 'tip_amount', 'total_amount',\n",
       "       'payment_type', 'trip_type', 'pickup_datetime', 'dropoff_datetime',\n",
       "       'pickup_lat', 'pickup_lon', 'dropoff_lat', 'dropoff_lon',\n",
       "       '__index_level_0__', 'awnd', 'prcp', 'snow', 'snwd', 'tmax', 'tmin',\n",
       "       'closest_school_college_pickup', 'closest_ba_pickup',\n",
       "       'closest_hotel_pickup', 'closest_school_college_dropoff',\n",
       "       'closest_ba_dropoff', 'closest_hotel_dropoff'],\n",
       "      dtype='object')"
      ]
     },
     "execution_count": 120,
     "metadata": {},
     "output_type": "execute_result"
    }
   ],
   "source": [
    "ddf.columns"
   ]
  },
  {
   "cell_type": "code",
   "execution_count": null,
   "id": "20ce67e8",
   "metadata": {},
   "outputs": [],
   "source": [
    "# take data up to 2019\n",
    "# make ddf 'pickup_datetime' and 'dropoff_datetime' columns as datetime\n",
    "ddf['pickup_datetime'] = dd.to_datetime(ddf['pickup_datetime'])\n",
    "ddf['dropoff_datetime'] = dd.to_datetime(ddf['dropoff_datetime'])\n",
    "# filter data for the year 2019\n",
    "ddf = ddf[(ddf['pickup_datetime'] < '2020-01-01') & (ddf['pickup_datetime'] >= '2018-01-01')]"
   ]
  },
  {
   "cell_type": "markdown",
   "id": "b4e5fdec",
   "metadata": {},
   "source": [
    "### Minimal setting"
   ]
  },
  {
   "cell_type": "code",
   "execution_count": 122,
   "id": "02556e4e",
   "metadata": {},
   "outputs": [],
   "source": [
    "min_ddf = ddf[['pickup_datetime']]"
   ]
  },
  {
   "cell_type": "code",
   "execution_count": 123,
   "id": "e1fa3726",
   "metadata": {},
   "outputs": [],
   "source": [
    "# Set datetime index\n",
    "min_ddf = min_ddf.set_index('pickup_datetime')"
   ]
  },
  {
   "cell_type": "code",
   "execution_count": 124,
   "id": "92b704e4",
   "metadata": {},
   "outputs": [],
   "source": [
    "# Resample to get daily counts\n",
    "daily_counts = min_ddf.resample('1D').size().reset_index()"
   ]
  },
  {
   "cell_type": "code",
   "execution_count": 125,
   "id": "f0321745",
   "metadata": {},
   "outputs": [],
   "source": [
    "daily_counts = daily_counts.rename(columns={0: 'ride_count'})"
   ]
  },
  {
   "cell_type": "code",
   "execution_count": 126,
   "id": "3e04e109",
   "metadata": {},
   "outputs": [
    {
     "name": "stderr",
     "output_type": "stream",
     "text": [
      "/d/hpc/home/jv8043/.local/lib/python3.11/site-packages/dask/dataframe/dask_expr/_collection.py:4399: UserWarning: \n",
      "You did not provide metadata, so Dask is running your function on a small dataset to guess output types. It is possible that Dask will guess incorrectly.\n",
      "To provide an explicit output types or to silence this message, please provide the `meta=` keyword, as described in the apply function that you are using.\n",
      "  Before: .apply(func)\n",
      "  After:  .apply(func, meta=('pickup_datetime', 'object'))\n",
      "\n",
      "  warnings.warn(meta_warning(meta))\n"
     ]
    }
   ],
   "source": [
    "daily_counts['day_of_week'] = daily_counts['pickup_datetime'].dt.dayofweek\n",
    "# add season column\n",
    "def get_season(dt):\n",
    "    month = dt.month\n",
    "    if month in [12, 1, 2]:\n",
    "        return 'winter'\n",
    "    elif month in [3, 4, 5]:\n",
    "        return 'spring'\n",
    "    elif month in [6, 7, 8]:\n",
    "        return 'summer'\n",
    "    else:\n",
    "        return 'autumn'\n",
    "    \n",
    "daily_counts['season'] = daily_counts['pickup_datetime'].apply(get_season)\n",
    "daily_counts['day'] = daily_counts['pickup_datetime'].dt.day\n",
    "daily_counts['week_in_month'] = (daily_counts['pickup_datetime'].dt.day - 1) // 7 + 1\n",
    "daily_counts['day_of_year'] = daily_counts['pickup_datetime'].dt.dayofyear"
   ]
  },
  {
   "cell_type": "code",
   "execution_count": 127,
   "id": "96d72b34",
   "metadata": {},
   "outputs": [],
   "source": [
    "daily_counts = daily_counts.set_index('pickup_datetime').compute().sort_index()"
   ]
  },
  {
   "cell_type": "code",
   "execution_count": 128,
   "id": "509f52b4",
   "metadata": {},
   "outputs": [],
   "source": [
    "train = daily_counts.iloc[:-30]\n",
    "test = daily_counts.iloc[-30:]"
   ]
  },
  {
   "cell_type": "code",
   "execution_count": 129,
   "id": "3e548cad",
   "metadata": {},
   "outputs": [
    {
     "data": {
      "text/plain": [
       "Index(['ride_count', 'day_of_week', 'season', 'day', 'week_in_month',\n",
       "       'day_of_year'],\n",
       "      dtype='object')"
      ]
     },
     "execution_count": 129,
     "metadata": {},
     "output_type": "execute_result"
    }
   ],
   "source": [
    "test.columns"
   ]
  },
  {
   "cell_type": "code",
   "execution_count": 130,
   "id": "ae9d99e4",
   "metadata": {},
   "outputs": [],
   "source": [
    "def one_hot_encode(train_df, test_df, categorical_cols):\n",
    "    train_encoded = pd.get_dummies(train_df, columns=categorical_cols, drop_first=True)\n",
    "    test_encoded = pd.get_dummies(test_df, columns=categorical_cols, drop_first=True)\n",
    "    test_encoded = test_encoded.reindex(columns=train_encoded.columns, fill_value=0)\n",
    "    return train_encoded, test_encoded"
   ]
  },
  {
   "cell_type": "code",
   "execution_count": 131,
   "id": "b21e5bae",
   "metadata": {},
   "outputs": [],
   "source": [
    "train, test = one_hot_encode(train, test, ['day_of_week', 'season'])"
   ]
  },
  {
   "cell_type": "code",
   "execution_count": 132,
   "id": "f9ec9c93",
   "metadata": {},
   "outputs": [
    {
     "data": {
      "text/plain": [
       "(Index(['ride_count', 'day', 'week_in_month', 'day_of_year', 'day_of_week_1',\n",
       "        'day_of_week_2', 'day_of_week_3', 'day_of_week_4', 'day_of_week_5',\n",
       "        'day_of_week_6', 'season_spring', 'season_summer', 'season_winter'],\n",
       "       dtype='object'),\n",
       " Index(['ride_count', 'day', 'week_in_month', 'day_of_year', 'day_of_week_1',\n",
       "        'day_of_week_2', 'day_of_week_3', 'day_of_week_4', 'day_of_week_5',\n",
       "        'day_of_week_6', 'season_spring', 'season_summer', 'season_winter'],\n",
       "       dtype='object'))"
      ]
     },
     "execution_count": 132,
     "metadata": {},
     "output_type": "execute_result"
    }
   ],
   "source": [
    "train.columns, test.columns"
   ]
  },
  {
   "cell_type": "code",
   "execution_count": 133,
   "id": "2402aecf",
   "metadata": {},
   "outputs": [],
   "source": [
    "cols = train.columns.difference(['ride_count', 'pickup_datetime'])"
   ]
  },
  {
   "cell_type": "code",
   "execution_count": 134,
   "id": "c47f2c43",
   "metadata": {},
   "outputs": [
    {
     "data": {
      "text/plain": [
       "Index(['day', 'day_of_week_1', 'day_of_week_2', 'day_of_week_3',\n",
       "       'day_of_week_4', 'day_of_week_5', 'day_of_week_6', 'day_of_year',\n",
       "       'season_spring', 'season_summer', 'season_winter', 'week_in_month'],\n",
       "      dtype='object')"
      ]
     },
     "execution_count": 134,
     "metadata": {},
     "output_type": "execute_result"
    }
   ],
   "source": [
    "cols"
   ]
  },
  {
   "cell_type": "code",
   "execution_count": 135,
   "id": "b0a5ff44",
   "metadata": {},
   "outputs": [],
   "source": [
    "for c in cols:\n",
    "    train[c] = train[c].astype('int')\n",
    "    test[c] = test[c].astype('int')"
   ]
  },
  {
   "cell_type": "code",
   "execution_count": 136,
   "id": "e41d44d6",
   "metadata": {},
   "outputs": [],
   "source": [
    "# Convert to Dask arrays\n",
    "# select all but 'ride_count' and 'pickup_datetime'\n",
    "X_train = da.from_array(train[cols].values)\n",
    "y_train = da.from_array(train['ride_count'].values)\n",
    "\n",
    "X_test = da.from_array(test[cols].values)\n",
    "y_test = da.from_array(test['ride_count'].values)"
   ]
  },
  {
   "cell_type": "code",
   "execution_count": 137,
   "id": "efc6a3a5",
   "metadata": {},
   "outputs": [],
   "source": [
    "lr = BlockwiseVotingRegressor(\n",
    "    estimator= LinearRegression(),\n",
    ")\n",
    "# Fit the model\n",
    "lr.fit(X_train, y_train)\n",
    "\n",
    "# Predict\n",
    "y_pred = lr.predict(X_test)"
   ]
  },
  {
   "cell_type": "code",
   "execution_count": 138,
   "id": "06563efb",
   "metadata": {},
   "outputs": [
    {
     "name": "stdout",
     "output_type": "stream",
     "text": [
      "RMSE: 9005.95\n",
      "MAE: 8373.87\n"
     ]
    }
   ],
   "source": [
    "rmse = np.sqrt(mean_squared_error(y_test.compute(), y_pred.compute()))\n",
    "print(f\"RMSE: {rmse:.2f}\")\n",
    "\n",
    "mae = mean_absolute_error(y_test.compute(), y_pred.compute())\n",
    "print(f\"MAE: {mae:.2f}\")"
   ]
  }
 ],
 "metadata": {
  "kernelspec": {
   "display_name": "Python 3 (ipykernel)",
   "language": "python",
   "name": "python3"
  }
 },
 "nbformat": 4,
 "nbformat_minor": 5
}
