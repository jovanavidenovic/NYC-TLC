{
 "cells": [
  {
   "cell_type": "markdown",
   "id": "95b1c0fe",
   "metadata": {},
   "source": [
    "### Big data course project\n",
    "<strong>T7: Forecasting demand -- daily aggregation of the data</strong>\n",
    "\n",
    "Jovana Videnovic & Haris Kupinic"
   ]
  },
  {
   "cell_type": "code",
   "execution_count": null,
   "id": "47c5a554",
   "metadata": {},
   "outputs": [],
   "source": [
    "!hostnamectl"
   ]
  },
  {
   "cell_type": "code",
   "execution_count": null,
   "id": "9f6f0033",
   "metadata": {},
   "outputs": [],
   "source": [
    "from dask.distributed import Client, LocalCluster\n",
    "import dask.dataframe as dd\n",
    "from pathlib import Path\n",
    "import pandas as pd\n",
    "import os\n",
    "import numpy as np\n",
    "from sklearn.neighbors import BallTree\n",
    "import pyarrow.dataset as ds\n",
    "import pyarrow as pa\n",
    "import pyarrow.compute as pc\n",
    "from datetime import timedelta\n",
    "from dask_ml.linear_model import LinearRegression\n",
    "from dask_ml.ensemble import BlockwiseVotingRegressor\n",
    "import dask.array as da\n",
    "from sklearn.metrics import mean_absolute_error, mean_squared_error\n",
    "import numpy as np"
   ]
  },
  {
   "cell_type": "code",
   "execution_count": null,
   "id": "5845696c",
   "metadata": {},
   "outputs": [],
   "source": [
    "cluster = LocalCluster(n_workers=2, threads_per_worker=2, memory_limit='64GB')\n",
    "client = Client(cluster)"
   ]
  },
  {
   "cell_type": "code",
   "execution_count": null,
   "id": "47abd130",
   "metadata": {},
   "outputs": [],
   "source": [
    "part_data_path = Path(\"/d/hpc/projects/FRI/bigdata/students/jv8043/partitioned_data\")"
   ]
  },
  {
   "cell_type": "code",
   "execution_count": null,
   "id": "bf4069a2",
   "metadata": {},
   "outputs": [],
   "source": [
    "y_ddf = dd.read_parquet(part_data_path / \"yellow\", engine=\"pyarrow\", assume_missing=True)[['pickup_datetime']]\n",
    "g_ddf = dd.read_parquet(part_data_path / \"green\", engine=\"pyarrow\", assume_missing=True)[['pickup_datetime']]\n",
    "fhv_ddf = dd.read_parquet(part_data_path / \"fhv\", engine=\"pyarrow\", assume_missing=True)[['pickup_datetime']]\n",
    "fhvhv_ddf = dd.read_parquet(part_data_path / \"fhvhv\", engine=\"pyarrow\", assume_missing=True)[['pickup_datetime']]"
   ]
  },
  {
   "cell_type": "code",
   "execution_count": null,
   "id": "24e4b6b5",
   "metadata": {},
   "outputs": [],
   "source": [
    "y_ddf[\"pickup_datetime\"] = dd.to_datetime(y_ddf[\"pickup_datetime\"])\n",
    "g_ddf[\"pickup_datetime\"] = dd.to_datetime(g_ddf[\"pickup_datetime\"])\n",
    "fhv_ddf[\"pickup_datetime\"] = dd.to_datetime(fhv_ddf[\"pickup_datetime\"])\n",
    "fhvhv_ddf[\"pickup_datetime\"] = dd.to_datetime(fhvhv_ddf[\"pickup_datetime\"])"
   ]
  },
  {
   "cell_type": "code",
   "execution_count": null,
   "id": "d454a18e",
   "metadata": {},
   "outputs": [],
   "source": [
    "y_ddf = y_ddf[\n",
    "    ((y_ddf[\"pickup_datetime\"] >= \"2019-03-01\") & (y_ddf[\"pickup_datetime\"] < \"2021-03-01\")) |\n",
    "    (y_ddf[\"pickup_datetime\"] >= \"2021-06-01\")\n",
    "]\n",
    "\n",
    "g_ddf = g_ddf[\n",
    "    ((g_ddf[\"pickup_datetime\"] >= \"2019-03-01\") & (g_ddf[\"pickup_datetime\"] < \"2021-03-01\")) |\n",
    "    (g_ddf[\"pickup_datetime\"] >= \"2021-06-01\")\n",
    "]\n",
    "\n",
    "fhv_ddf = fhv_ddf[\n",
    "    ((fhv_ddf[\"pickup_datetime\"] >= \"2019-03-01\") & (fhv_ddf[\"pickup_datetime\"] < \"2021-03-01\")) |\n",
    "    (fhv_ddf[\"pickup_datetime\"] >= \"2021-06-01\")\n",
    "]\n",
    "\n",
    "fhvhv_ddf = fhvhv_ddf[\n",
    "    ((fhvhv_ddf[\"pickup_datetime\"] >= \"2019-03-01\") & (fhvhv_ddf[\"pickup_datetime\"] < \"2021-03-01\")) |\n",
    "    (fhvhv_ddf[\"pickup_datetime\"] >= \"2021-06-01\")\n",
    "]\n"
   ]
  },
  {
   "cell_type": "code",
   "execution_count": null,
   "id": "0b3639be",
   "metadata": {},
   "outputs": [],
   "source": [
    "# leave only the date part of the datetime\n",
    "y_ddf[\"pickup_datetime\"] = y_ddf[\"pickup_datetime\"].dt.floor(\"D\")\n",
    "g_ddf[\"pickup_datetime\"] = g_ddf[\"pickup_datetime\"].dt.floor(\"D\")\n",
    "fhv_ddf[\"pickup_datetime\"] = fhv_ddf[\"pickup_datetime\"].dt.floor(\"D\")\n",
    "fhvhv_ddf[\"pickup_datetime\"] = fhvhv_ddf[\"pickup_datetime\"].dt.floor(\"D\")"
   ]
  },
  {
   "cell_type": "code",
   "execution_count": null,
   "id": "392c19c3",
   "metadata": {},
   "outputs": [],
   "source": [
    "y_ddf = y_ddf.set_index('pickup_datetime', sorted=True)\n",
    "g_ddf = g_ddf.set_index('pickup_datetime', sorted=True)\n",
    "fhv_ddf = fhv_ddf.set_index('pickup_datetime', sorted=True)\n",
    "fhvhv_ddf = fhvhv_ddf.set_index('pickup_datetime', sorted=True)"
   ]
  },
  {
   "cell_type": "code",
   "execution_count": null,
   "id": "7497c1f4",
   "metadata": {},
   "outputs": [],
   "source": [
    "y_ddf = y_ddf.repartition(freq='1D')\n",
    "g_ddf = g_ddf.repartition(freq='1D')\n",
    "fhv_ddf = fhv_ddf.repartition(freq='1D')\n",
    "fhvhv_ddf = fhvhv_ddf.repartition(freq='1D')"
   ]
  },
  {
   "cell_type": "code",
   "execution_count": null,
   "id": "483cd663",
   "metadata": {},
   "outputs": [],
   "source": [
    "dc_y = y_ddf.resample('1D').size().reset_index().rename(columns={0: 'ride_count'})\n",
    "dc_g = g_ddf.resample('1D').size().reset_index().rename(columns={0: 'ride_count'})\n",
    "dc_fhv = fhv_ddf.resample('1D').size().reset_index().rename(columns={0: 'ride_count'})\n",
    "dc_fhvhv = fhvhv_ddf.resample('1D').size().reset_index().rename(columns={0: 'ride_count'})"
   ]
  },
  {
   "cell_type": "code",
   "execution_count": null,
   "id": "fc6cdb77",
   "metadata": {},
   "outputs": [],
   "source": [
    "display(dc_y)"
   ]
  },
  {
   "cell_type": "code",
   "execution_count": null,
   "id": "eb56e5b0",
   "metadata": {},
   "outputs": [],
   "source": [
    "# convert them all to pandas DataFrames\n",
    "dc_y = dc_y.compute()\n",
    "dc_g = dc_g.compute()\n",
    "dc_fhv = dc_fhv.compute()\n",
    "dc_fhvhv = dc_fhvhv.compute()"
   ]
  },
  {
   "cell_type": "code",
   "execution_count": null,
   "id": "01611407",
   "metadata": {},
   "outputs": [],
   "source": [
    "dc_y.to_csv(\"dc_y.csv\", index=False)\n",
    "dc_g.to_csv(\"dc_g.csv\", index=False)\n",
    "dc_fhv.to_csv(\"dc_fhv.csv\", index=False)\n",
    "dc_fhvhv.to_csv(\"dc_fhvhv.csv\", index=False)"
   ]
  },
  {
   "cell_type": "code",
   "execution_count": null,
   "id": "10711dad",
   "metadata": {},
   "outputs": [],
   "source": [
    "dc_y[\"ride_count_y\"] = dc_y[\"ride_count\"]\n",
    "dc_g[\"ride_count_g\"] = dc_g[\"ride_count\"]\n",
    "dc_fhv[\"ride_count_fhv\"] = dc_fhv[\"ride_count\"]\n",
    "dc_fhvhv[\"ride_count_fhvhv\"] = dc_fhvhv[\"ride_count\"]\n",
    "\n",
    "del dc_y[\"ride_count\"]\n",
    "del dc_g[\"ride_count\"]\n",
    "del dc_fhv[\"ride_count\"]\n",
    "del dc_fhvhv[\"ride_count\"]"
   ]
  },
  {
   "cell_type": "code",
   "execution_count": null,
   "id": "a2cb4bdc",
   "metadata": {},
   "outputs": [],
   "source": [
    "# join them into one dataframe by summing the ride counts and renaming the whole sum to 'ride_count'\n",
    "df = dc_y.merge(dc_g, on='pickup_datetime', suffixes=('', ''))\n",
    "df = df.merge(dc_fhv, on='pickup_datetime', suffixes=('', ''))\n",
    "df = df.merge(dc_fhvhv, on='pickup_datetime', suffixes=('', ''))\n",
    "df['ride_count'] = df['ride_count_y'] + df['ride_count_g'] + df['ride_count_fhv'] + df['ride_count_fhvhv']\n",
    "daily_counts = df[['pickup_datetime', 'ride_count']]"
   ]
  },
  {
   "cell_type": "code",
   "execution_count": null,
   "id": "3f9e5958",
   "metadata": {},
   "outputs": [],
   "source": [
    "daily_counts.to_csv(\"daily_counts.csv\", index=False)"
   ]
  }
 ],
 "metadata": {
  "kernelspec": {
   "display_name": "Python 3 (ipykernel)",
   "language": "python",
   "name": "python3"
  },
  "language_info": {
   "codemirror_mode": {
    "name": "ipython",
    "version": 3
   },
   "file_extension": ".py",
   "mimetype": "text/x-python",
   "name": "python",
   "nbconvert_exporter": "python",
   "pygments_lexer": "ipython3",
   "version": "3.11.11"
  }
 },
 "nbformat": 4,
 "nbformat_minor": 5
}
