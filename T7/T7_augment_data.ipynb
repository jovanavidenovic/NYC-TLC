{
 "cells": [
  {
   "cell_type": "markdown",
   "id": "70656bdb",
   "metadata": {},
   "source": [
    "### Big data course project\n",
    "<strong>T7: Forecasting demand -- augmentation of the data</strong>\n",
    "\n",
    "Jovana Videnovic & Haris Kupinic"
   ]
  },
  {
   "cell_type": "code",
   "execution_count": 194,
   "id": "b9e0ecb9",
   "metadata": {},
   "outputs": [],
   "source": [
    "import pandas as pd\n",
    "from pathlib import Path"
   ]
  },
  {
   "cell_type": "code",
   "execution_count": 195,
   "id": "99caa2fd",
   "metadata": {},
   "outputs": [],
   "source": [
    "data_path = Path(\"/d/hpc/home/jv8043/BD/project/T7/data\")\n",
    "add_data_path = Path(\"/d/hpc/home/jv8043/BD/project/T5/add_data\")"
   ]
  },
  {
   "cell_type": "code",
   "execution_count": 196,
   "id": "437cb7a9",
   "metadata": {},
   "outputs": [],
   "source": [
    "df_name = \"dc_fhvhv\""
   ]
  },
  {
   "cell_type": "code",
   "execution_count": 197,
   "id": "ec89e1ae",
   "metadata": {},
   "outputs": [],
   "source": [
    "df = pd.read_csv(data_path / f\"{df_name}.csv\")"
   ]
  },
  {
   "cell_type": "code",
   "execution_count": 198,
   "id": "44d4bf39",
   "metadata": {},
   "outputs": [],
   "source": [
    "# add covid column based on pickup_datetime\n",
    "df[\"pickup_datetime\"] = pd.to_datetime(df[\"pickup_datetime\"])"
   ]
  },
  {
   "cell_type": "code",
   "execution_count": 199,
   "id": "67b3ca4d",
   "metadata": {},
   "outputs": [],
   "source": [
    "df[\"covid\"] = (\n",
    "    ((df[\"pickup_datetime\"].dt.year == 2020) & (df[\"pickup_datetime\"].dt.month > 3)) |\n",
    "    ((df[\"pickup_datetime\"].dt.year == 2020) & (df[\"pickup_datetime\"].dt.month == 3) & (df[\"pickup_datetime\"].dt.day >= 15)) |\n",
    "    ((df[\"pickup_datetime\"].dt.year == 2021) & (df[\"pickup_datetime\"].dt.month < 4))\n",
    ")\n"
   ]
  },
  {
   "cell_type": "code",
   "execution_count": 200,
   "id": "321369ed",
   "metadata": {},
   "outputs": [],
   "source": [
    "holidays_df = pd.read_csv(add_data_path / \"holidays.csv\")"
   ]
  },
  {
   "cell_type": "code",
   "execution_count": 201,
   "id": "4b635e6d",
   "metadata": {},
   "outputs": [
    {
     "name": "stdout",
     "output_type": "stream",
     "text": [
      "Number of holidays: 75\n"
     ]
    }
   ],
   "source": [
    "holiday_date_list = pd.to_datetime(holidays_df[\"Date\"]).dt.date.tolist()\n",
    "print(f\"Number of holidays: {len(holiday_date_list)}\")"
   ]
  },
  {
   "cell_type": "code",
   "execution_count": 202,
   "id": "d6d8c2a4",
   "metadata": {},
   "outputs": [],
   "source": [
    "df[\"holiday\"] = df[\"pickup_datetime\"].dt.date.isin(\n",
    "    holiday_date_list\n",
    ")"
   ]
  },
  {
   "cell_type": "code",
   "execution_count": 203,
   "id": "5793004c",
   "metadata": {},
   "outputs": [],
   "source": [
    "weather_df = pd.read_csv(add_data_path / \"weather.csv\")\n",
    "weather_df[\"DATE\"] = pd.to_datetime(weather_df[\"DATE\"])\n",
    "# rename columns to match df\n",
    "weather_df.rename(columns={\n",
    "    \"DATE\": \"pickup_datetime\"}, inplace=True)"
   ]
  },
  {
   "cell_type": "code",
   "execution_count": 204,
   "id": "1fc351dc",
   "metadata": {},
   "outputs": [],
   "source": [
    "# drop columns \n",
    "weather_df = weather_df.drop(columns=[\"STATION\",\"NAME\"])"
   ]
  },
  {
   "cell_type": "code",
   "execution_count": 205,
   "id": "f92f264f",
   "metadata": {},
   "outputs": [],
   "source": [
    "for c in [\"AWND\",\"PRCP\",\"SNOW\",\"SNWD\",\"TAVG\",\"TMAX\",\"TMIN\"]:\n",
    "    weather_df[c] = weather_df[c].astype(float)"
   ]
  },
  {
   "cell_type": "code",
   "execution_count": 206,
   "id": "7bf02d42",
   "metadata": {},
   "outputs": [],
   "source": [
    "# join weather data with df based on pickup_datetime\n",
    "df = df.merge(weather_df, on=\"pickup_datetime\", how=\"left\")"
   ]
  },
  {
   "cell_type": "code",
   "execution_count": 207,
   "id": "a926681a",
   "metadata": {},
   "outputs": [],
   "source": [
    "del df[\"TAVG\"]\n",
    "df = df.fillna({\n",
    "    \"AWND\": 0.0,\n",
    "})"
   ]
  },
  {
   "cell_type": "code",
   "execution_count": 208,
   "id": "fe07dba6",
   "metadata": {},
   "outputs": [],
   "source": [
    "df[\"is_school_season\"] = df[\"pickup_datetime\"].between(\"2019-09-01\", \"2020-03-15\") | \\\n",
    "                         df[\"pickup_datetime\"].between(\"2021-09-01\", \"2022-06-30\") | \\\n",
    "                         df[\"pickup_datetime\"].between(\"2022-09-01\", \"2023-06-30\") | \\\n",
    "                         df[\"pickup_datetime\"].between(\"2023-09-01\", \"2024-06-30\") | \\\n",
    "                         df[\"pickup_datetime\"].between(\"2024-09-01\", \"2025-06-30\")\n"
   ]
  },
  {
   "cell_type": "code",
   "execution_count": 209,
   "id": "b1ee193b",
   "metadata": {},
   "outputs": [],
   "source": [
    "df[\"is_spring_break\"] = (\n",
    "    df[\"pickup_datetime\"].between(\"2020-03-09\", \"2020-03-15\") |\n",
    "    df[\"pickup_datetime\"].between(\"2021-03-15\", \"2021-03-21\") |\n",
    "    df[\"pickup_datetime\"].between(\"2022-04-11\", \"2022-04-17\") |\n",
    "    df[\"pickup_datetime\"].between(\"2023-04-03\", \"2023-04-09\") |\n",
    "    df[\"pickup_datetime\"].between(\"2024-03-25\", \"2024-03-31\") |\n",
    "    df[\"pickup_datetime\"].between(\"2025-03-24\", \"2025-03-30\")\n",
    ")\n"
   ]
  },
  {
   "cell_type": "code",
   "execution_count": 210,
   "id": "ed2bd677",
   "metadata": {},
   "outputs": [],
   "source": [
    "df.to_csv(data_path / f\"{df_name}_augmented.csv\", index=False)"
   ]
  },
  {
   "cell_type": "code",
   "execution_count": 211,
   "id": "916b8ae8",
   "metadata": {},
   "outputs": [
    {
     "data": {
      "text/html": [
       "<div>\n",
       "<style scoped>\n",
       "    .dataframe tbody tr th:only-of-type {\n",
       "        vertical-align: middle;\n",
       "    }\n",
       "\n",
       "    .dataframe tbody tr th {\n",
       "        vertical-align: top;\n",
       "    }\n",
       "\n",
       "    .dataframe thead th {\n",
       "        text-align: right;\n",
       "    }\n",
       "</style>\n",
       "<table border=\"1\" class=\"dataframe\">\n",
       "  <thead>\n",
       "    <tr style=\"text-align: right;\">\n",
       "      <th></th>\n",
       "      <th>pickup_datetime</th>\n",
       "      <th>ride_count</th>\n",
       "      <th>covid</th>\n",
       "      <th>holiday</th>\n",
       "      <th>AWND</th>\n",
       "      <th>PRCP</th>\n",
       "      <th>SNOW</th>\n",
       "      <th>SNWD</th>\n",
       "      <th>TMAX</th>\n",
       "      <th>TMIN</th>\n",
       "      <th>is_school_season</th>\n",
       "      <th>is_spring_break</th>\n",
       "    </tr>\n",
       "  </thead>\n",
       "  <tbody>\n",
       "    <tr>\n",
       "      <th>0</th>\n",
       "      <td>2019-03-01</td>\n",
       "      <td>837591</td>\n",
       "      <td>False</td>\n",
       "      <td>False</td>\n",
       "      <td>0.0</td>\n",
       "      <td>0.11</td>\n",
       "      <td>1.4</td>\n",
       "      <td>1.2</td>\n",
       "      <td>35.0</td>\n",
       "      <td>26.0</td>\n",
       "      <td>False</td>\n",
       "      <td>False</td>\n",
       "    </tr>\n",
       "    <tr>\n",
       "      <th>1</th>\n",
       "      <td>2019-03-02</td>\n",
       "      <td>900381</td>\n",
       "      <td>False</td>\n",
       "      <td>False</td>\n",
       "      <td>0.0</td>\n",
       "      <td>0.53</td>\n",
       "      <td>4.0</td>\n",
       "      <td>3.9</td>\n",
       "      <td>41.0</td>\n",
       "      <td>31.0</td>\n",
       "      <td>False</td>\n",
       "      <td>False</td>\n",
       "    </tr>\n",
       "    <tr>\n",
       "      <th>2</th>\n",
       "      <td>2019-03-03</td>\n",
       "      <td>796165</td>\n",
       "      <td>False</td>\n",
       "      <td>False</td>\n",
       "      <td>0.0</td>\n",
       "      <td>0.52</td>\n",
       "      <td>3.0</td>\n",
       "      <td>1.2</td>\n",
       "      <td>42.0</td>\n",
       "      <td>33.0</td>\n",
       "      <td>False</td>\n",
       "      <td>False</td>\n",
       "    </tr>\n",
       "    <tr>\n",
       "      <th>3</th>\n",
       "      <td>2019-03-04</td>\n",
       "      <td>621067</td>\n",
       "      <td>False</td>\n",
       "      <td>False</td>\n",
       "      <td>0.0</td>\n",
       "      <td>0.29</td>\n",
       "      <td>2.0</td>\n",
       "      <td>3.9</td>\n",
       "      <td>38.0</td>\n",
       "      <td>28.0</td>\n",
       "      <td>False</td>\n",
       "      <td>False</td>\n",
       "    </tr>\n",
       "    <tr>\n",
       "      <th>4</th>\n",
       "      <td>2019-03-05</td>\n",
       "      <td>710006</td>\n",
       "      <td>False</td>\n",
       "      <td>False</td>\n",
       "      <td>0.0</td>\n",
       "      <td>0.00</td>\n",
       "      <td>0.0</td>\n",
       "      <td>2.0</td>\n",
       "      <td>32.0</td>\n",
       "      <td>20.0</td>\n",
       "      <td>False</td>\n",
       "      <td>False</td>\n",
       "    </tr>\n",
       "  </tbody>\n",
       "</table>\n",
       "</div>"
      ],
      "text/plain": [
       "  pickup_datetime  ride_count  covid  holiday  AWND  PRCP  SNOW  SNWD  TMAX  \\\n",
       "0      2019-03-01      837591  False    False   0.0  0.11   1.4   1.2  35.0   \n",
       "1      2019-03-02      900381  False    False   0.0  0.53   4.0   3.9  41.0   \n",
       "2      2019-03-03      796165  False    False   0.0  0.52   3.0   1.2  42.0   \n",
       "3      2019-03-04      621067  False    False   0.0  0.29   2.0   3.9  38.0   \n",
       "4      2019-03-05      710006  False    False   0.0  0.00   0.0   2.0  32.0   \n",
       "\n",
       "   TMIN  is_school_season  is_spring_break  \n",
       "0  26.0             False            False  \n",
       "1  31.0             False            False  \n",
       "2  33.0             False            False  \n",
       "3  28.0             False            False  \n",
       "4  20.0             False            False  "
      ]
     },
     "metadata": {},
     "output_type": "display_data"
    }
   ],
   "source": [
    "display(df.head())"
   ]
  }
 ],
 "metadata": {
  "kernelspec": {
   "display_name": "Python 3 (ipykernel)",
   "language": "python",
   "name": "python3"
  },
  "language_info": {
   "codemirror_mode": {
    "name": "ipython",
    "version": 3
   },
   "file_extension": ".py",
   "mimetype": "text/x-python",
   "name": "python",
   "nbconvert_exporter": "python",
   "pygments_lexer": "ipython3",
   "version": "3.11.11"
  }
 },
 "nbformat": 4,
 "nbformat_minor": 5
}
