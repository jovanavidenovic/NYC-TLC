{
 "cells": [
  {
   "cell_type": "markdown",
   "id": "3d51a246",
   "metadata": {},
   "source": [
    "### Big df course project\n",
    "<strong>T4: Initial EDA; Common routes analysis</strong>\n",
    "\n",
    "Jovana Videnovic & Haris Kupinic"
   ]
  },
  {
   "cell_type": "code",
   "execution_count": null,
   "id": "b7836f65",
   "metadata": {},
   "outputs": [],
   "source": [
    "import pandas as pd\n",
    "import pyarrow.parquet as pq\n",
    "import matplotlib.pyplot as plt\n",
    "import os\n",
    "import duckdb\n",
    "import geopandas as gpd\n",
    "import numpy as np\n",
    "import time\n",
    "import dask.dataframe as dd\n",
    "import duckdb\n",
    "from dask_sql import Context"
   ]
  },
  {
   "cell_type": "code",
   "execution_count": null,
   "id": "e978bc82",
   "metadata": {},
   "outputs": [],
   "source": [
    "import seaborn as sb"
   ]
  },
  {
   "cell_type": "code",
   "execution_count": null,
   "id": "bf334990",
   "metadata": {},
   "outputs": [],
   "source": [
    "from dask.distributed import Client, LocalCluster\n",
    "from pathlib import Path"
   ]
  },
  {
   "cell_type": "code",
   "execution_count": null,
   "id": "0889e66a",
   "metadata": {},
   "outputs": [],
   "source": [
    "plt.rcParams['xtick.bottom'] = True\n",
    "plt.rcParams['ytick.left'] = True\n",
    "\n",
    "plt.rcParams['font.family'] = 'serif'\n",
    "plt.rcParams['axes.labelsize'] = 12\n",
    "plt.rcParams['xtick.labelsize'] = 10\n",
    "plt.rcParams['ytick.labelsize'] = 10\n",
    "\n",
    "plt.rcParams['axes.facecolor']='w'"
   ]
  },
  {
   "cell_type": "markdown",
   "id": "4d4a9225",
   "metadata": {},
   "source": [
    "### Loading the df"
   ]
  },
  {
   "cell_type": "code",
   "execution_count": null,
   "id": "4f0ee225",
   "metadata": {},
   "outputs": [],
   "source": [
    "service_type = \"yellow\""
   ]
  },
  {
   "cell_type": "code",
   "execution_count": null,
   "id": "fec812db",
   "metadata": {},
   "outputs": [],
   "source": [
    "part_df_path = Path(\"/d/hpc/projects/FRI/bigdata/students/jv8043/partitioned_data_new\")\n",
    "vis_path = Path(\"/d/hpc/home/jv8043/BD/project/T4/T4_vis\") / service_type\n",
    "tables_path = Path(\"/d/hpc/home/jv8043/BD/project/T4/T4_tables\") / service_type"
   ]
  },
  {
   "cell_type": "code",
   "execution_count": null,
   "id": "1fba6d69",
   "metadata": {},
   "outputs": [],
   "source": [
    "os.makedirs(vis_path, exist_ok=True)\n",
    "os.makedirs(tables_path, exist_ok=True)"
   ]
  },
  {
   "cell_type": "code",
   "execution_count": null,
   "id": "fce8ab8e",
   "metadata": {},
   "outputs": [],
   "source": [
    "cluster = LocalCluster(n_workers=4, threads_per_worker=1, memory_limit='32GB')\n",
    "client = Client(cluster)"
   ]
  },
  {
   "cell_type": "code",
   "execution_count": null,
   "id": "0539a9ee",
   "metadata": {},
   "outputs": [],
   "source": [
    "client"
   ]
  },
  {
   "cell_type": "code",
   "execution_count": null,
   "id": "9db2d9da",
   "metadata": {},
   "outputs": [],
   "source": [
    "g_df = dd.read_parquet(part_df_path / \"green\", engine=\"pyarrow\", assume_missing=True)\n",
    "fhvhv_df = dd.read_parquet(part_df_path / \"fhvhv\", engine=\"pyarrow\", assume_missing=True)\n",
    "g_df = dd.read_parquet(part_df_path / \"yellow\", engine=\"pyarrow\", assume_missing=True)"
   ]
  },
  {
   "cell_type": "code",
   "execution_count": null,
   "id": "9b652ca3",
   "metadata": {},
   "outputs": [],
   "source": [
    "g_df = dd.read_parquet(part_df_path / \"yellow\", engine=\"pyarrow\", assume_missing=True)"
   ]
  },
  {
   "cell_type": "code",
   "execution_count": null,
   "id": "146dcc94",
   "metadata": {},
   "outputs": [],
   "source": [
    "g_tables_path = Path(\"/d/hpc/home/jv8043/BD/project/T4/T4_tables\") / \"green\"\n",
    "fhvhv_tables_path = Path(\"/d/hpc/home/jv8043/BD/project/T4/T4_tables\") / \"fhvhv\"\n",
    "y_tables_path = Path(\"/d/hpc/home/jv8043/BD/project/T4/T4_tables\") / \"yellow\""
   ]
  },
  {
   "cell_type": "code",
   "execution_count": null,
   "id": "d88e371e",
   "metadata": {},
   "outputs": [],
   "source": [
    "display(g_df.head(3))"
   ]
  },
  {
   "cell_type": "code",
   "execution_count": null,
   "id": "5473d16a",
   "metadata": {},
   "outputs": [],
   "source": [
    "taxi_zone_lookup = pd.read_csv(\"/d/hpc/home/jv8043/BD/project/add_data/taxi_zone_lookup.csv\")"
   ]
  },
  {
   "cell_type": "code",
   "execution_count": null,
   "id": "c9e4f464",
   "metadata": {},
   "outputs": [],
   "source": [
    "jfk_lat = 40.63983\n",
    "jfk_lon = -73.77874\n",
    "ues_lat = 40.7641\n",
    "ues_lon = -73.956"
   ]
  },
  {
   "cell_type": "code",
   "execution_count": null,
   "id": "2636da3c",
   "metadata": {},
   "outputs": [],
   "source": [
    "# Step 1: Filter for rides with exact matching pickup and dropoff coordinates\n",
    "route_ddf = g_df[\n",
    "    (g_df['pickup_lat'] == jfk_lat) & \n",
    "    (g_df['pickup_lon'] == jfk_lon) & \n",
    "    (g_df['dropoff_lat'] == ues_lat) & \n",
    "    (g_df['dropoff_lon'] == ues_lon)\n",
    "]"
   ]
  },
  {
   "cell_type": "code",
   "execution_count": null,
   "id": "ab514895",
   "metadata": {},
   "outputs": [],
   "source": [
    "# Step 2: Extract year from pickup_datetime\n",
    "route_ddf['year'] = route_ddf['pickup_datetime'].dt.year"
   ]
  },
  {
   "cell_type": "code",
   "execution_count": null,
   "id": "632c0327",
   "metadata": {},
   "outputs": [],
   "source": [
    "# Step 3: Group by year and compute average fare amount\n",
    "avg_fare_per_year = route_ddf.groupby('year')['fare_amount'].mean().compute()"
   ]
  },
  {
   "cell_type": "code",
   "execution_count": null,
   "id": "70d2775a",
   "metadata": {},
   "outputs": [],
   "source": [
    "# save to csv\n",
    "avg_fare_per_year.to_csv(y_tables_path / \"yellow_avg_fare_per_year.csv\", index=True)"
   ]
  },
  {
   "cell_type": "code",
   "execution_count": null,
   "id": "03f0aee0",
   "metadata": {},
   "outputs": [],
   "source": [
    "# Define function to assign season\n",
    "def get_season(month):\n",
    "    if month in [12, 1, 2]:\n",
    "        return \"Winter\"\n",
    "    elif month in [3, 4, 5]:\n",
    "        return \"Spring\"\n",
    "    elif month in [6, 7, 8]:\n",
    "        return \"Summer\"\n",
    "    else:\n",
    "        return \"Fall\"\n",
    "\n",
    "# Extract month and map to season\n",
    "route_ddf['month'] = route_ddf['pickup_datetime'].dt.month\n",
    "route_ddf['season'] = route_ddf['month'].map(get_season, meta=('month', 'str'))\n",
    "\n",
    "# Group by season and compute average fare\n",
    "avg_fare_per_season = route_ddf.groupby('season')['fare_amount'].mean().compute()\n",
    "\n",
    "# Sort for better readability (optional)\n",
    "avg_fare_per_season = avg_fare_per_season.loc[['Winter', 'Spring', 'Summer', 'Fall']]\n",
    "\n",
    "# Display result\n",
    "print(avg_fare_per_season)\n",
    "avg_fare_per_season.to_csv(g_tables_path / \"green_avg_fare_per_season.csv\", index=True)"
   ]
  },
  {
   "cell_type": "code",
   "execution_count": null,
   "id": "c1d5ddf3",
   "metadata": {},
   "outputs": [],
   "source": [
    "route_ddf = fhvhv_df[\n",
    "    (fhvhv_df['pickup_lat'] == jfk_lat) & \n",
    "    (fhvhv_df['pickup_lon'] == jfk_lon) & \n",
    "    (fhvhv_df['dropoff_lat'] == ues_lat) & \n",
    "    (fhvhv_df['dropoff_lon'] == ues_lon)\n",
    "]"
   ]
  },
  {
   "cell_type": "code",
   "execution_count": null,
   "id": "8c860f2c",
   "metadata": {},
   "outputs": [],
   "source": [
    "# Step 2: Extract year from pickup_datetime\n",
    "route_ddf['year'] = route_ddf['pickup_datetime'].dt.year"
   ]
  },
  {
   "cell_type": "code",
   "execution_count": null,
   "id": "ce2bfd38",
   "metadata": {},
   "outputs": [],
   "source": [
    "# Step 3: Group by year and compute average fare amount\n",
    "avg_fare_per_year = route_ddf.groupby('year')['driver_pay'].mean().compute()"
   ]
  },
  {
   "cell_type": "code",
   "execution_count": null,
   "id": "96e63784",
   "metadata": {},
   "outputs": [],
   "source": [
    "# save to csv\n",
    "avg_fare_per_year.to_csv(fhvhv_tables_path / \"avg_fare_per_year.csv\", index=True)"
   ]
  },
  {
   "cell_type": "code",
   "execution_count": null,
   "id": "b246d369",
   "metadata": {},
   "outputs": [],
   "source": [
    "# Define function to assign season\n",
    "def get_season(month):\n",
    "    if month in [12, 1, 2]:\n",
    "        return \"Winter\"\n",
    "    elif month in [3, 4, 5]:\n",
    "        return \"Spring\"\n",
    "    elif month in [6, 7, 8]:\n",
    "        return \"Summer\"\n",
    "    else:\n",
    "        return \"Fall\"\n",
    "\n",
    "# Extract month and map to season\n",
    "route_ddf['month'] = route_ddf['pickup_datetime'].dt.month\n",
    "route_ddf['season'] = route_ddf['month'].map(get_season, meta=('month', 'str'))\n",
    "\n",
    "# Group by season and compute average fare\n",
    "avg_fare_per_season = route_ddf.groupby('season')['driver_pay'].mean().compute()\n",
    "\n",
    "# Sort for better readability (optional)\n",
    "avg_fare_per_season = avg_fare_per_season.loc[['Winter', 'Spring', 'Summer', 'Fall']]\n",
    "\n",
    "# Display result\n",
    "print(avg_fare_per_season)"
   ]
  },
  {
   "cell_type": "code",
   "execution_count": null,
   "id": "13e8e3c4",
   "metadata": {},
   "outputs": [],
   "source": [
    "avg_fare_per_season.to_csv(fhvhv_tables_path / \"avg_fare_per_season.csv\", index=True)"
   ]
  },
  {
   "cell_type": "code",
   "execution_count": null,
   "id": "51b90773",
   "metadata": {},
   "outputs": [],
   "source": [
    "import matplotlib.pyplot as plt\n",
    "\n",
    "# Example average fare data per season for each service\n",
    "seasons = ['Winter', 'Spring', 'Summer', 'Fall']\n",
    "yellow_taxi = [54.24723387410412, 53.560678516209, 53.62137540695536, 54.137651310905326]\n",
    "green_taxi = [42.333333333333336, 53.51428571428572,  60.65714285714286, 57.0]\n",
    "fhvhv = [52.79222731513406, 56.467724381351324, 55.315100772440736, 54.521964639023366]\n",
    "\n",
    "# Create the plot\n",
    "fig, axs = plt.subplots(1, 2, figsize=(8, 3), sharey=True)\n",
    "\n",
    "ax = axs[0]\n",
    "# Plot each service\n",
    "ax.plot(seasons, yellow_taxi, marker='o', label='Yellow', color=\"#ffee8c\")\n",
    "ax.plot(seasons, green_taxi, marker='o', label='Green', color=\"#77dd77\")\n",
    "ax.plot(seasons, fhvhv, marker='o', label='FHVHV', color=\"#aec7e8\")\n",
    "\n",
    "# Set labels\n",
    "ax.set_xlabel('Season')\n",
    "ax.set_ylabel('Average price')\n",
    "\n",
    "# remove spines up and right\n",
    "ax.spines['top'].set_visible(False)\n",
    "ax.spines['right'].set_visible(False)\n",
    "\n",
    "# add grid for better readability\n",
    "ax.grid(True, linestyle='--', alpha=0.3)\n",
    "# Show legend\n",
    "ax.legend()\n",
    "\n",
    "yellow = pd.read_csv(\"/d/hpc/home/jv8043/BD/project/T4/T4_tables/yellow/yellow_avg_fare_per_year.csv\")   # contains columns: year,fare_amount\n",
    "green = pd.read_csv(\"/d/hpc/home/jv8043/BD/project/T4/T4_tables/green/green_avg_fare_per_year.csv\")\n",
    "fhvhv = pd.read_csv(\"/d/hpc/home/jv8043/BD/project/T4/T4_tables/fhvhv/avg_fare_per_year.csv\")\n",
    "# filter all three from 2019 to 2023\n",
    "yellow = yellow[(yellow['year'] >= 2019)]\n",
    "fhvhv = fhvhv[(fhvhv['year'] >= 2019)]\n",
    "# Add service type to each DataFrame\n",
    "yellow['service'] = 'Yellow'\n",
    "yellow = yellow.sort_values(by='year')\n",
    "fhvhv['service'] = 'FHVHV'\n",
    "fhvhv = fhvhv.sort_values(by='year')\n",
    "fhvhv = fhvhv.rename(columns={'driver_pay': 'fare_amount'})  # rename driver_pay to fare_amount for consistency\n",
    "\n",
    "# Combine all into one DataFrame\n",
    "df = pd.concat([yellow, fhvhv], ignore_index=True)\n",
    "\n",
    "# Ensure year is int and sort by year\n",
    "df['year'] = df['year'].astype(int)\n",
    "\n",
    "# Pivot to get years as x and services as separate columns\n",
    "pivot = df.pivot(index='year', columns='service', values='fare_amount')\n",
    "\n",
    "ax = axs[1]\n",
    "# Plot\n",
    "ax.plot(pivot.index, pivot['Yellow'], marker='o', label='Yellow', color=\"#ffee8c\")\n",
    "# ax.plot(pivot.index, pivot['Green'], marker='o', label='Green', color=\"#77dd77\")\n",
    "ax.plot(pivot.index, pivot['FHVHV'], marker='o', label='FHVHV', color=\"#aec7e8\")\n",
    "print(pivot['FHVHV'])\n",
    "ax.set_xticks(pivot.index)\n",
    "ax.set_xticklabels(pivot.index, rotation=45)\n",
    "ax.set_xlabel(\"Year\")\n",
    "# ax.set_ylabel(\"Average price\")\n",
    "ax.legend()\n",
    "# remove spines up and right\n",
    "ax.spines['top'].set_visible(False)\n",
    "ax.spines['right'].set_visible(False)\n",
    "# add grid for better readability\n",
    "ax.grid(True, linestyle='--', alpha=0.3)\n",
    "\n",
    "# Display the plot\n",
    "fig.tight_layout()\n",
    "plt.show()\n",
    "fig.savefig(vis_path / \"jfk_ues_avg_fare_per_season.pdf\", dpi=300, bbox_inches='tight')"
   ]
  },
  {
   "cell_type": "code",
   "execution_count": null,
   "id": "68fbbf1c",
   "metadata": {},
   "outputs": [],
   "source": [
    "# Example average fare data per season for each service\n",
    "seasons = ['Winter', 'Spring', 'Summer', 'Fall']\n",
    "yellow_taxi = [42.33, 53.51, 60.66, 57.00]\n",
    "green_taxi = [42.333333333333336, 53.51428571428572,  60.65714285714286, 57.0]\n",
    "fhvhv = [52.79222731513406, 56.467724381351324, 55.315100772440736, 54.521964639023366]\n",
    "\n",
    "# Create the plot\n",
    "fig, ax = plt.subplots(figsize=(4, 3))\n",
    "\n",
    "# Plot each service\n",
    "ax.plot(seasons, yellow_taxi, marker='o', label='Yellow Taxi')\n",
    "ax.plot(seasons, green_taxi, marker='o', label='Green Taxi')\n",
    "ax.plot(seasons, fhvhv, marker='o', label='FHVHV')\n",
    "\n",
    "# Set labels\n",
    "ax.set_xlabel('Season')\n",
    "ax.set_ylabel('Average Fare Amount')\n",
    "\n",
    "# Show legend\n",
    "ax.legend()\n",
    "\n",
    "# Display the plot\n",
    "plt.tight_layout()\n",
    "plt.show()"
   ]
  }
 ],
 "metadata": {
  "kernelspec": {
   "display_name": "Python 3 (ipykernel)",
   "language": "python",
   "name": "python3"
  },
  "language_info": {
   "codemirror_mode": {
    "name": "ipython",
    "version": 3
   },
   "file_extension": ".py",
   "mimetype": "text/x-python",
   "name": "python",
   "nbconvert_exporter": "python",
   "pygments_lexer": "ipython3",
   "version": "3.11.11"
  }
 },
 "nbformat": 4,
 "nbformat_minor": 5
}
